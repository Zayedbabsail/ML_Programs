{
 "cells": [
  {
   "cell_type": "code",
   "execution_count": null,
   "id": "0f1fbdd1",
   "metadata": {},
   "outputs": [],
   "source": [
    "#Aim: To implement logistic regression for logistic data"
   ]
  },
  {
   "cell_type": "code",
   "execution_count": null,
   "id": "f7875628",
   "metadata": {},
   "outputs": [],
   "source": [
    "import pandas as pd\n",
    "import numpy as np\n",
    "import matplotlib.pyplot as plt\n",
    "from sklearn.model_selection import train_test_split\n",
    "from sklearn.linear_model import LogisticRegression\n",
    "from sklearn.metrics import confusion_matrix, accuracy_score"
   ]
  },
  {
   "cell_type": "code",
   "execution_count": 2,
   "id": "5de379a3",
   "metadata": {},
   "outputs": [],
   "source": [
    "dataset=pd.read_csv(\"C:/Users/zaidb/OneDrive/Desktop/Program/ML_Programs/datasets/logistic_data.csv\")"
   ]
  },
  {
   "cell_type": "code",
   "execution_count": 3,
   "id": "e56d879a",
   "metadata": {},
   "outputs": [
    {
     "data": {
      "text/html": [
       "<div>\n",
       "<style scoped>\n",
       "    .dataframe tbody tr th:only-of-type {\n",
       "        vertical-align: middle;\n",
       "    }\n",
       "\n",
       "    .dataframe tbody tr th {\n",
       "        vertical-align: top;\n",
       "    }\n",
       "\n",
       "    .dataframe thead th {\n",
       "        text-align: right;\n",
       "    }\n",
       "</style>\n",
       "<table border=\"1\" class=\"dataframe\">\n",
       "  <thead>\n",
       "    <tr style=\"text-align: right;\">\n",
       "      <th></th>\n",
       "      <th>4.5192</th>\n",
       "      <th>2.6487</th>\n",
       "      <th>1.0</th>\n",
       "    </tr>\n",
       "  </thead>\n",
       "  <tbody>\n",
       "    <tr>\n",
       "      <th>0</th>\n",
       "      <td>2.4443</td>\n",
       "      <td>1.5438</td>\n",
       "      <td>1.0</td>\n",
       "    </tr>\n",
       "    <tr>\n",
       "      <th>1</th>\n",
       "      <td>4.2409</td>\n",
       "      <td>1.8990</td>\n",
       "      <td>1.0</td>\n",
       "    </tr>\n",
       "    <tr>\n",
       "      <th>2</th>\n",
       "      <td>5.8097</td>\n",
       "      <td>2.4711</td>\n",
       "      <td>1.0</td>\n",
       "    </tr>\n",
       "    <tr>\n",
       "      <th>3</th>\n",
       "      <td>6.4423</td>\n",
       "      <td>3.3590</td>\n",
       "      <td>1.0</td>\n",
       "    </tr>\n",
       "    <tr>\n",
       "      <th>4</th>\n",
       "      <td>5.8097</td>\n",
       "      <td>3.2406</td>\n",
       "      <td>1.0</td>\n",
       "    </tr>\n",
       "    <tr>\n",
       "      <th>...</th>\n",
       "      <td>...</td>\n",
       "      <td>...</td>\n",
       "      <td>...</td>\n",
       "    </tr>\n",
       "    <tr>\n",
       "      <th>94</th>\n",
       "      <td>5.9868</td>\n",
       "      <td>7.3641</td>\n",
       "      <td>0.0</td>\n",
       "    </tr>\n",
       "    <tr>\n",
       "      <th>95</th>\n",
       "      <td>4.6711</td>\n",
       "      <td>6.2592</td>\n",
       "      <td>0.0</td>\n",
       "    </tr>\n",
       "    <tr>\n",
       "      <th>96</th>\n",
       "      <td>7.5810</td>\n",
       "      <td>8.3703</td>\n",
       "      <td>0.0</td>\n",
       "    </tr>\n",
       "    <tr>\n",
       "      <th>97</th>\n",
       "      <td>4.6457</td>\n",
       "      <td>8.5676</td>\n",
       "      <td>0.0</td>\n",
       "    </tr>\n",
       "    <tr>\n",
       "      <th>98</th>\n",
       "      <td>4.6457</td>\n",
       "      <td>8.1676</td>\n",
       "      <td>0.0</td>\n",
       "    </tr>\n",
       "  </tbody>\n",
       "</table>\n",
       "<p>99 rows × 3 columns</p>\n",
       "</div>"
      ],
      "text/plain": [
       "    4.5192  2.6487  1.0\n",
       "0   2.4443  1.5438  1.0\n",
       "1   4.2409  1.8990  1.0\n",
       "2   5.8097  2.4711  1.0\n",
       "3   6.4423  3.3590  1.0\n",
       "4   5.8097  3.2406  1.0\n",
       "..     ...     ...  ...\n",
       "94  5.9868  7.3641  0.0\n",
       "95  4.6711  6.2592  0.0\n",
       "96  7.5810  8.3703  0.0\n",
       "97  4.6457  8.5676  0.0\n",
       "98  4.6457  8.1676  0.0\n",
       "\n",
       "[99 rows x 3 columns]"
      ]
     },
     "execution_count": 3,
     "metadata": {},
     "output_type": "execute_result"
    }
   ],
   "source": [
    "dataset"
   ]
  },
  {
   "cell_type": "code",
   "execution_count": 4,
   "id": "b117dab7",
   "metadata": {},
   "outputs": [
    {
     "data": {
      "text/plain": [
       "array([[2.4443, 1.5438],\n",
       "       [4.2409, 1.899 ],\n",
       "       [5.8097, 2.4711],\n",
       "       [6.4423, 3.359 ],\n",
       "       [5.8097, 3.2406],\n",
       "       [6.3917, 3.8128],\n",
       "       [6.8725, 4.4441],\n",
       "       [6.7966, 3.6747],\n",
       "       [8.163 , 4.7401],\n",
       "       [7.4038, 3.8917],\n",
       "       [7.6316, 4.602 ],\n",
       "       [7.7581, 5.7265],\n",
       "       [6.5688, 4.9571],\n",
       "       [5.3543, 3.9903],\n",
       "       [4.4686, 3.0236],\n",
       "       [2.9757, 2.0568],\n",
       "       [2.4443, 1.2676],\n",
       "       [0.9008, 1.169 ],\n",
       "       [2.1154, 1.7411],\n",
       "       [3.2794, 1.386 ],\n",
       "       [4.165 , 1.5636],\n",
       "       [4.8482, 1.8793],\n",
       "       [3.33  , 2.7868],\n",
       "       [5.1518, 3.5563],\n",
       "       [6.2652, 4.0693],\n",
       "       [6.2652, 4.3849],\n",
       "       [7.2014, 1.5438],\n",
       "       [7.6569, 2.412 ],\n",
       "       [6.1387, 1.7806],\n",
       "       [4.4939, 1.4057],\n",
       "       [4.8735, 2.6093],\n",
       "       [5.5314, 3.0828],\n",
       "       [6.0121, 3.9311],\n",
       "       [7.1508, 4.7598],\n",
       "       [7.7075, 5.3122],\n",
       "       [8.3148, 5.7068],\n",
       "       [8.5172, 5.1149],\n",
       "       [8.7449, 5.4109],\n",
       "       [7.8593, 3.8128],\n",
       "       [6.999 , 3.2406],\n",
       "       [5.5061, 2.9052],\n",
       "       [4.9241, 2.6882],\n",
       "       [6.6447, 3.8325],\n",
       "       [7.6822, 4.5428],\n",
       "       [8.0364, 5.7857],\n",
       "       [8.9221, 6.5552],\n",
       "       [7.8593, 5.253 ],\n",
       "       [6.5941, 5.2333],\n",
       "       [6.0374, 4.7598],\n",
       "       [2.7227, 4.5822],\n",
       "       [1.9383, 3.6549],\n",
       "       [1.6852, 2.9841],\n",
       "       [4.3168, 4.4244],\n",
       "       [3.4312, 3.7536],\n",
       "       [5.4808, 5.2728],\n",
       "       [4.1144, 4.8387],\n",
       "       [3.2034, 4.4244],\n",
       "       [4.1144, 5.3911],\n",
       "       [5.1012, 6.0817],\n",
       "       [4.8988, 5.5687],\n",
       "       [5.9615, 6.4565],\n",
       "       [5.7591, 6.0028],\n",
       "       [6.6953, 6.7722],\n",
       "       [5.7338, 6.6538],\n",
       "       [6.6194, 7.1471],\n",
       "       [7.2014, 7.5219],\n",
       "       [7.2014, 6.8314],\n",
       "       [8.5931, 7.6206],\n",
       "       [7.7581, 7.1865],\n",
       "       [7.7581, 7.7784],\n",
       "       [5.1012, 7.6009],\n",
       "       [4.2156, 6.496 ],\n",
       "       [3.4818, 5.8055],\n",
       "       [2.3684, 5.0163],\n",
       "       [1.7864, 4.1876],\n",
       "       [0.9008, 3.4379],\n",
       "       [0.9008, 5.7857],\n",
       "       [1.9636, 6.3382],\n",
       "       [1.4069, 4.9571],\n",
       "       [2.419 , 6.8511],\n",
       "       [2.8745, 6.0817],\n",
       "       [4.0132, 7.1668],\n",
       "       [4.6711, 7.226 ],\n",
       "       [5.1771, 8.1533],\n",
       "       [6.2146, 7.4825],\n",
       "       [5.4555, 7.0484],\n",
       "       [5.9868, 8.5084],\n",
       "       [4.0891, 7.5417],\n",
       "       [2.3937, 7.2063],\n",
       "       [1.331 , 6.5355],\n",
       "       [1.7358, 5.4503],\n",
       "       [2.4443, 5.8449],\n",
       "       [3.1781, 4.8979],\n",
       "       [4.6711, 5.8055],\n",
       "       [5.9868, 7.3641],\n",
       "       [4.6711, 6.2592],\n",
       "       [7.581 , 8.3703],\n",
       "       [4.6457, 8.5676],\n",
       "       [4.6457, 8.1676]])"
      ]
     },
     "execution_count": 4,
     "metadata": {},
     "output_type": "execute_result"
    }
   ],
   "source": [
    "x=dataset.iloc[:,[0,1]].values\n",
    "x"
   ]
  },
  {
   "cell_type": "code",
   "execution_count": 6,
   "id": "3ae195d6",
   "metadata": {},
   "outputs": [
    {
     "data": {
      "text/plain": [
       "array([1., 1., 1., 1., 1., 1., 1., 1., 1., 1., 1., 1., 1., 1., 1., 1., 1.,\n",
       "       1., 1., 1., 1., 1., 1., 1., 1., 1., 1., 1., 1., 1., 1., 1., 1., 1.,\n",
       "       1., 1., 1., 1., 1., 1., 1., 1., 1., 1., 1., 1., 1., 1., 1., 0., 0.,\n",
       "       0., 0., 0., 0., 0., 0., 0., 0., 0., 0., 0., 0., 0., 0., 0., 0., 0.,\n",
       "       0., 0., 0., 0., 0., 0., 0., 0., 0., 0., 0., 0., 0., 0., 0., 0., 0.,\n",
       "       0., 0., 0., 0., 0., 0., 0., 0., 0., 0., 0., 0., 0., 0.])"
      ]
     },
     "execution_count": 6,
     "metadata": {},
     "output_type": "execute_result"
    }
   ],
   "source": [
    "y=dataset.iloc[:,2].values\n",
    "y"
   ]
  },
  {
   "cell_type": "code",
   "execution_count": 11,
   "id": "89e51a43",
   "metadata": {},
   "outputs": [],
   "source": [
    "xtrain,xtest,ytrain,ytest=train_test_split(x,y,test_size=0.25,random_state=0)"
   ]
  },
  {
   "cell_type": "code",
   "execution_count": 13,
   "id": "8b8686f1",
   "metadata": {},
   "outputs": [
    {
     "data": {
      "text/plain": [
       "array([[6.0374, 4.7598],\n",
       "       [6.8725, 4.4441],\n",
       "       [4.6457, 8.1676],\n",
       "       [4.6711, 7.226 ],\n",
       "       [0.9008, 5.7857],\n",
       "       [5.9615, 6.4565],\n",
       "       [2.8745, 6.0817],\n",
       "       [1.331 , 6.5355],\n",
       "       [7.7581, 7.1865],\n",
       "       [1.6852, 2.9841],\n",
       "       [7.6569, 2.412 ],\n",
       "       [2.1154, 1.7411],\n",
       "       [3.2034, 4.4244],\n",
       "       [5.7338, 6.6538],\n",
       "       [1.7864, 4.1876],\n",
       "       [4.2409, 1.899 ],\n",
       "       [5.7591, 6.0028],\n",
       "       [6.6447, 3.8325],\n",
       "       [4.9241, 2.6882],\n",
       "       [5.8097, 3.2406],\n",
       "       [2.9757, 2.0568],\n",
       "       [0.9008, 1.169 ],\n",
       "       [5.5061, 2.9052],\n",
       "       [7.8593, 3.8128],\n",
       "       [6.3917, 3.8128],\n",
       "       [1.7358, 5.4503],\n",
       "       [4.8988, 5.5687],\n",
       "       [2.4443, 1.5438],\n",
       "       [7.7075, 5.3122],\n",
       "       [6.1387, 1.7806],\n",
       "       [1.9383, 3.6549],\n",
       "       [7.7581, 5.7265],\n",
       "       [8.3148, 5.7068],\n",
       "       [5.1518, 3.5563],\n",
       "       [4.3168, 4.4244],\n",
       "       [7.6316, 4.602 ],\n",
       "       [5.5314, 3.0828],\n",
       "       [7.2014, 6.8314],\n",
       "       [4.1144, 5.3911],\n",
       "       [2.419 , 6.8511],\n",
       "       [5.4555, 7.0484],\n",
       "       [6.0121, 3.9311],\n",
       "       [6.2146, 7.4825],\n",
       "       [4.4686, 3.0236],\n",
       "       [2.3937, 7.2063],\n",
       "       [3.2794, 1.386 ],\n",
       "       [4.4939, 1.4057],\n",
       "       [2.7227, 4.5822],\n",
       "       [7.581 , 8.3703],\n",
       "       [4.6457, 8.5676],\n",
       "       [7.7581, 7.7784],\n",
       "       [4.165 , 1.5636],\n",
       "       [4.6711, 5.8055],\n",
       "       [3.4818, 5.8055],\n",
       "       [1.9636, 6.3382],\n",
       "       [6.2652, 4.3849],\n",
       "       [8.7449, 5.4109],\n",
       "       [4.0132, 7.1668],\n",
       "       [7.8593, 5.253 ],\n",
       "       [6.999 , 3.2406],\n",
       "       [7.2014, 7.5219],\n",
       "       [5.1012, 6.0817],\n",
       "       [6.5688, 4.9571],\n",
       "       [5.1012, 7.6009],\n",
       "       [4.0891, 7.5417],\n",
       "       [8.5172, 5.1149],\n",
       "       [4.8482, 1.8793],\n",
       "       [5.1771, 8.1533],\n",
       "       [7.4038, 3.8917],\n",
       "       [4.6711, 6.2592],\n",
       "       [8.5931, 7.6206],\n",
       "       [6.6194, 7.1471],\n",
       "       [6.5941, 5.2333],\n",
       "       [8.0364, 5.7857]])"
      ]
     },
     "execution_count": 13,
     "metadata": {},
     "output_type": "execute_result"
    }
   ],
   "source": [
    "xtrain"
   ]
  },
  {
   "cell_type": "code",
   "execution_count": 15,
   "id": "5bbdfd4a",
   "metadata": {},
   "outputs": [
    {
     "data": {
      "text/plain": [
       "array([[7.2014, 1.5438],\n",
       "       [5.9868, 8.5084],\n",
       "       [5.8097, 2.4711],\n",
       "       [4.1144, 4.8387],\n",
       "       [0.9008, 3.4379],\n",
       "       [3.1781, 4.8979],\n",
       "       [2.4443, 1.2676],\n",
       "       [2.3684, 5.0163],\n",
       "       [5.4808, 5.2728],\n",
       "       [5.9868, 7.3641],\n",
       "       [3.4312, 3.7536],\n",
       "       [2.4443, 5.8449],\n",
       "       [1.4069, 4.9571],\n",
       "       [5.3543, 3.9903],\n",
       "       [6.7966, 3.6747],\n",
       "       [4.8735, 2.6093],\n",
       "       [3.33  , 2.7868],\n",
       "       [6.2652, 4.0693],\n",
       "       [7.1508, 4.7598],\n",
       "       [8.163 , 4.7401],\n",
       "       [7.6822, 4.5428],\n",
       "       [6.6953, 6.7722],\n",
       "       [6.4423, 3.359 ],\n",
       "       [4.2156, 6.496 ],\n",
       "       [8.9221, 6.5552]])"
      ]
     },
     "execution_count": 15,
     "metadata": {},
     "output_type": "execute_result"
    }
   ],
   "source": [
    "xtest"
   ]
  },
  {
   "cell_type": "code",
   "execution_count": 16,
   "id": "9c4ad354",
   "metadata": {},
   "outputs": [
    {
     "data": {
      "text/plain": [
       "array([1., 1., 0., 0., 0., 0., 0., 0., 0., 0., 1., 1., 0., 0., 0., 1., 0.,\n",
       "       1., 1., 1., 1., 1., 1., 1., 1., 0., 0., 1., 1., 1., 0., 1., 1., 1.,\n",
       "       0., 1., 1., 0., 0., 0., 0., 1., 0., 1., 0., 1., 1., 0., 0., 0., 0.,\n",
       "       1., 0., 0., 0., 1., 1., 0., 1., 1., 0., 0., 1., 0., 0., 1., 1., 0.,\n",
       "       1., 0., 0., 0., 1., 1.])"
      ]
     },
     "execution_count": 16,
     "metadata": {},
     "output_type": "execute_result"
    }
   ],
   "source": [
    "ytrain"
   ]
  },
  {
   "cell_type": "code",
   "execution_count": 17,
   "id": "a1e791b4",
   "metadata": {},
   "outputs": [
    {
     "data": {
      "text/plain": [
       "array([1., 0., 1., 0., 0., 0., 1., 0., 0., 0., 0., 0., 0., 1., 1., 1., 1.,\n",
       "       1., 1., 1., 1., 0., 1., 0., 1.])"
      ]
     },
     "execution_count": 17,
     "metadata": {},
     "output_type": "execute_result"
    }
   ],
   "source": [
    "ytest"
   ]
  },
  {
   "cell_type": "code",
   "execution_count": 19,
   "id": "25bbd64d",
   "metadata": {},
   "outputs": [
    {
     "data": {
      "text/html": [
       "<style>#sk-container-id-2 {color: black;}#sk-container-id-2 pre{padding: 0;}#sk-container-id-2 div.sk-toggleable {background-color: white;}#sk-container-id-2 label.sk-toggleable__label {cursor: pointer;display: block;width: 100%;margin-bottom: 0;padding: 0.3em;box-sizing: border-box;text-align: center;}#sk-container-id-2 label.sk-toggleable__label-arrow:before {content: \"▸\";float: left;margin-right: 0.25em;color: #696969;}#sk-container-id-2 label.sk-toggleable__label-arrow:hover:before {color: black;}#sk-container-id-2 div.sk-estimator:hover label.sk-toggleable__label-arrow:before {color: black;}#sk-container-id-2 div.sk-toggleable__content {max-height: 0;max-width: 0;overflow: hidden;text-align: left;background-color: #f0f8ff;}#sk-container-id-2 div.sk-toggleable__content pre {margin: 0.2em;color: black;border-radius: 0.25em;background-color: #f0f8ff;}#sk-container-id-2 input.sk-toggleable__control:checked~div.sk-toggleable__content {max-height: 200px;max-width: 100%;overflow: auto;}#sk-container-id-2 input.sk-toggleable__control:checked~label.sk-toggleable__label-arrow:before {content: \"▾\";}#sk-container-id-2 div.sk-estimator input.sk-toggleable__control:checked~label.sk-toggleable__label {background-color: #d4ebff;}#sk-container-id-2 div.sk-label input.sk-toggleable__control:checked~label.sk-toggleable__label {background-color: #d4ebff;}#sk-container-id-2 input.sk-hidden--visually {border: 0;clip: rect(1px 1px 1px 1px);clip: rect(1px, 1px, 1px, 1px);height: 1px;margin: -1px;overflow: hidden;padding: 0;position: absolute;width: 1px;}#sk-container-id-2 div.sk-estimator {font-family: monospace;background-color: #f0f8ff;border: 1px dotted black;border-radius: 0.25em;box-sizing: border-box;margin-bottom: 0.5em;}#sk-container-id-2 div.sk-estimator:hover {background-color: #d4ebff;}#sk-container-id-2 div.sk-parallel-item::after {content: \"\";width: 100%;border-bottom: 1px solid gray;flex-grow: 1;}#sk-container-id-2 div.sk-label:hover label.sk-toggleable__label {background-color: #d4ebff;}#sk-container-id-2 div.sk-serial::before {content: \"\";position: absolute;border-left: 1px solid gray;box-sizing: border-box;top: 0;bottom: 0;left: 50%;z-index: 0;}#sk-container-id-2 div.sk-serial {display: flex;flex-direction: column;align-items: center;background-color: white;padding-right: 0.2em;padding-left: 0.2em;position: relative;}#sk-container-id-2 div.sk-item {position: relative;z-index: 1;}#sk-container-id-2 div.sk-parallel {display: flex;align-items: stretch;justify-content: center;background-color: white;position: relative;}#sk-container-id-2 div.sk-item::before, #sk-container-id-2 div.sk-parallel-item::before {content: \"\";position: absolute;border-left: 1px solid gray;box-sizing: border-box;top: 0;bottom: 0;left: 50%;z-index: -1;}#sk-container-id-2 div.sk-parallel-item {display: flex;flex-direction: column;z-index: 1;position: relative;background-color: white;}#sk-container-id-2 div.sk-parallel-item:first-child::after {align-self: flex-end;width: 50%;}#sk-container-id-2 div.sk-parallel-item:last-child::after {align-self: flex-start;width: 50%;}#sk-container-id-2 div.sk-parallel-item:only-child::after {width: 0;}#sk-container-id-2 div.sk-dashed-wrapped {border: 1px dashed gray;margin: 0 0.4em 0.5em 0.4em;box-sizing: border-box;padding-bottom: 0.4em;background-color: white;}#sk-container-id-2 div.sk-label label {font-family: monospace;font-weight: bold;display: inline-block;line-height: 1.2em;}#sk-container-id-2 div.sk-label-container {text-align: center;}#sk-container-id-2 div.sk-container {/* jupyter's `normalize.less` sets `[hidden] { display: none; }` but bootstrap.min.css set `[hidden] { display: none !important; }` so we also need the `!important` here to be able to override the default hidden behavior on the sphinx rendered scikit-learn.org. See: https://github.com/scikit-learn/scikit-learn/issues/21755 */display: inline-block !important;position: relative;}#sk-container-id-2 div.sk-text-repr-fallback {display: none;}</style><div id=\"sk-container-id-2\" class=\"sk-top-container\"><div class=\"sk-text-repr-fallback\"><pre>LogisticRegression(random_state=0)</pre><b>In a Jupyter environment, please rerun this cell to show the HTML representation or trust the notebook. <br />On GitHub, the HTML representation is unable to render, please try loading this page with nbviewer.org.</b></div><div class=\"sk-container\" hidden><div class=\"sk-item\"><div class=\"sk-estimator sk-toggleable\"><input class=\"sk-toggleable__control sk-hidden--visually\" id=\"sk-estimator-id-2\" type=\"checkbox\" checked><label for=\"sk-estimator-id-2\" class=\"sk-toggleable__label sk-toggleable__label-arrow\">LogisticRegression</label><div class=\"sk-toggleable__content\"><pre>LogisticRegression(random_state=0)</pre></div></div></div></div></div>"
      ],
      "text/plain": [
       "LogisticRegression(random_state=0)"
      ]
     },
     "execution_count": 19,
     "metadata": {},
     "output_type": "execute_result"
    }
   ],
   "source": [
    "classifier=LogisticRegression(random_state=0)\n",
    "classifier.fit(xtrain,ytrain)"
   ]
  },
  {
   "cell_type": "code",
   "execution_count": 20,
   "id": "ffba504d",
   "metadata": {},
   "outputs": [
    {
     "data": {
      "text/plain": [
       "array([0., 1.])"
      ]
     },
     "execution_count": 20,
     "metadata": {},
     "output_type": "execute_result"
    }
   ],
   "source": [
    "classifier.classes_"
   ]
  },
  {
   "cell_type": "code",
   "execution_count": 21,
   "id": "9a86c2ea",
   "metadata": {},
   "outputs": [
    {
     "data": {
      "text/plain": [
       "array([3.12787746])"
      ]
     },
     "execution_count": 21,
     "metadata": {},
     "output_type": "execute_result"
    }
   ],
   "source": [
    "classifier.intercept_"
   ]
  },
  {
   "cell_type": "code",
   "execution_count": 22,
   "id": "fe93cea2",
   "metadata": {},
   "outputs": [
    {
     "data": {
      "text/plain": [
       "array([[ 1.51533124, -2.31207756]])"
      ]
     },
     "execution_count": 22,
     "metadata": {},
     "output_type": "execute_result"
    }
   ],
   "source": [
    "classifier.coef_"
   ]
  },
  {
   "cell_type": "code",
   "execution_count": 23,
   "id": "78f2a32b",
   "metadata": {},
   "outputs": [
    {
     "data": {
      "text/plain": [
       "array([[2.83459374e-05, 9.99971654e-01],\n",
       "       [9.99431658e-01, 5.68342304e-04],\n",
       "       [1.98901946e-03, 9.98010981e-01],\n",
       "       [8.61152257e-01, 1.38847743e-01],\n",
       "       [9.69403746e-01, 3.05962545e-02],\n",
       "       [9.67091846e-01, 3.29081542e-02],\n",
       "       [1.98206335e-02, 9.80179367e-01],\n",
       "       [9.92469887e-01, 7.53011257e-03],\n",
       "       [6.80923186e-01, 3.19076814e-01],\n",
       "       [9.92049261e-01, 7.95073949e-03],\n",
       "       [5.86940624e-01, 4.13059376e-01],\n",
       "       [9.98748375e-01, 1.25162458e-03],\n",
       "       [9.97977513e-01, 2.02248726e-03],\n",
       "       [1.17581738e-01, 8.82418262e-01],\n",
       "       [7.16905650e-03, 9.92830944e-01],\n",
       "       [1.12070682e-02, 9.88792932e-01],\n",
       "       [1.50506663e-01, 8.49493337e-01],\n",
       "       [3.86722347e-02, 9.61327765e-01],\n",
       "       [4.93278086e-02, 9.50672191e-01],\n",
       "       [1.05811093e-02, 9.89418891e-01],\n",
       "       [1.38482802e-02, 9.86151720e-01],\n",
       "       [9.15628182e-01, 8.43718176e-02],\n",
       "       [5.91796336e-03, 9.94082037e-01],\n",
       "       [9.95943411e-01, 4.05658894e-03],\n",
       "       [1.83669179e-01, 8.16330821e-01]])"
      ]
     },
     "execution_count": 23,
     "metadata": {},
     "output_type": "execute_result"
    }
   ],
   "source": [
    "classifier.predict_proba(xtest)"
   ]
  },
  {
   "cell_type": "code",
   "execution_count": 24,
   "id": "f87b766b",
   "metadata": {},
   "outputs": [
    {
     "name": "stdout",
     "output_type": "stream",
     "text": [
      "[1. 0. 1. 0. 0. 0. 1. 0. 0. 0. 0. 0. 0. 1. 1. 1. 1. 1. 1. 1. 1. 0. 1. 0.\n",
      " 1.]\n"
     ]
    }
   ],
   "source": [
    "y_pred=classifier.predict(xtest)\n",
    "print(y_pred)"
   ]
  },
  {
   "cell_type": "code",
   "execution_count": 26,
   "id": "46e5fddd",
   "metadata": {},
   "outputs": [
    {
     "name": "stdout",
     "output_type": "stream",
     "text": [
      "Accuracy: 1.0\n"
     ]
    }
   ],
   "source": [
    "print(\"Accuracy:\",accuracy_score(ytest,y_pred))"
   ]
  },
  {
   "cell_type": "code",
   "execution_count": 27,
   "id": "3b14667f",
   "metadata": {},
   "outputs": [
    {
     "name": "stdout",
     "output_type": "stream",
     "text": [
      "confusion matrix:\n",
      " [[12  0]\n",
      " [ 0 13]]\n"
     ]
    }
   ],
   "source": [
    "cm=confusion_matrix(ytest,y_pred)\n",
    "print(\"confusion matrix:\\n\",cm)"
   ]
  },
  {
   "cell_type": "code",
   "execution_count": 29,
   "id": "84373e5c",
   "metadata": {},
   "outputs": [
    {
     "data": {
      "image/png": "[encoded data removed]",
      "text/plain": [
       "<Figure size 400x400 with 1 Axes>"
      ]
     },
     "metadata": {},
     "output_type": "display_data"
    }
   ],
   "source": [
    "fig,ax=plt.subplots(figsize=(4,4))\n",
    "ax.imshow(cm)\n",
    "ax.grid(False)\n",
    "ax.xaxis.set(ticks=(0,1),ticklabels=(\"predicted 0s\",\"predicted 1s\"))\n",
    "ax.yaxis.set(ticks=(0,1),ticklabels=(\"Actual 0s\",\"Actual 1s\"))\n",
    "ax.set_ylim(1.5,-0.5)\n",
    "for i in range(2):\n",
    "    for j in range(2):\n",
    "        ax.text(j,i,cm[i,j],ha=\"center\",va=\"center\",color=\"red\")\n",
    "plt.show()"
   ]
  },
  {
   "cell_type": "code",
   "execution_count": null,
   "id": "5fbfdbdd",
   "metadata": {},
   "outputs": [],
   "source": []
  }
 ],
 "metadata": {
  "kernelspec": {
   "display_name": "Python 3 (ipykernel)",
   "language": "python",
   "name": "python3"
  },
  "language_info": {
   "codemirror_mode": {
    "name": "ipython",
    "version": 3
   },
   "file_extension": ".py",
   "mimetype": "text/x-python",
   "name": "python",
   "nbconvert_exporter": "python",
   "pygments_lexer": "ipython3",
   "version": "3.11.5"
  }
 },
 "nbformat": 4,
 "nbformat_minor": 5
}
